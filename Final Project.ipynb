{
 "cells": [
  {
   "cell_type": "code",
   "execution_count": null,
   "id": "04709981",
   "metadata": {},
   "outputs": [],
   "source": [
    "%matplotlib inline\n",
    "import numpy as np\n",
    "import matplotlib.pyplot as plt"
   ]
  },
  {
   "cell_type": "markdown",
   "id": "8364e546",
   "metadata": {},
   "source": [
    "# Baseline Models"
   ]
  },
  {
   "cell_type": "markdown",
   "id": "73c57c87",
   "metadata": {},
   "source": [
    "### SVM"
   ]
  },
  {
   "cell_type": "code",
   "execution_count": null,
   "id": "c4453916",
   "metadata": {},
   "outputs": [],
   "source": [
    "from sklearn.datasets import load_files\n",
    "import cv2\n",
    "from sklearn.model_selection import train_test_split\n",
    "from sklearn.decomposition import PCA\n",
    "from sklearn import svm\n",
    "from sklearn.metrics import precision_score, recall_score, f1_score\n",
    "from sklearn.model_selection import GridSearchCV"
   ]
  },
  {
   "cell_type": "code",
   "execution_count": null,
   "id": "fa564017",
   "metadata": {},
   "outputs": [],
   "source": [
    "# Load data\n",
    "datapath = 'data'\n",
    "dataset = load_files(datapath, load_content=False, shuffle=True)\n",
    "dataset"
   ]
  },
  {
   "cell_type": "code",
   "execution_count": null,
   "id": "3d52cd67",
   "metadata": {},
   "outputs": [],
   "source": [
    "# Read image files as grayscale\n",
    "X = []\n",
    "for file in dataset['filenames']:\n",
    "    img = cv2.imread(file, cv2.IMREAD_GRAYSCALE)\n",
    "    img = img.flatten()\n",
    "    X.append(img)\n",
    "X = np.array(X)\n",
    "X.shape"
   ]
  },
  {
   "cell_type": "code",
   "execution_count": null,
   "id": "a616650d",
   "metadata": {},
   "outputs": [],
   "source": [
    "pca=PCA()\n",
    "X = pca.fit_transform(X)\n",
    "X.shape"
   ]
  },
  {
   "cell_type": "code",
   "execution_count": null,
   "id": "5514200b",
   "metadata": {},
   "outputs": [],
   "source": [
    "# Flatten feature vectors and split\n",
    "X_train, X_test, y_train, y_test = train_test_split(X, dataset['target'])"
   ]
  },
  {
   "cell_type": "code",
   "execution_count": null,
   "id": "15ad6ebc",
   "metadata": {},
   "outputs": [],
   "source": [
    "# Fit a model with default slack C=1\n",
    "svm_mdl = svm.SVC()\n",
    "svm_mdl.fit(X_train, y_train)"
   ]
  },
  {
   "cell_type": "code",
   "execution_count": null,
   "id": "f7d8fd6f",
   "metadata": {},
   "outputs": [],
   "source": [
    "# Predict\n",
    "preds = svm_mdl.predict(X_test)\n",
    "print(f'Precision: {precision_score(preds, y_test)}\\nRecall: {recall_score(preds, y_test)}\\nF1: {f1_score(preds, y_test)}')"
   ]
  },
  {
   "cell_type": "code",
   "execution_count": null,
   "id": "077e5229",
   "metadata": {},
   "outputs": [],
   "source": [
    "# Perform k-fold cross validation to determine best slack parameter\n",
    "svm_tune = svm.SVC()\n",
    "param_dict = {'C': [0.25, 0.5, 1, 2.5, 5]}\n",
    "clf = GridSearchCV(svm_tune, param_dict, scoring=['precision', 'recall', 'f1'])\n",
    "clf.fit(X_train, y_train).best_params_"
   ]
  },
  {
   "cell_type": "code",
   "execution_count": null,
   "id": "33e655e2",
   "metadata": {},
   "outputs": [],
   "source": []
  },
  {
   "cell_type": "markdown",
   "id": "515b6ed1",
   "metadata": {},
   "source": [
    "### ResNet"
   ]
  },
  {
   "cell_type": "code",
   "execution_count": null,
   "id": "0a71d337",
   "metadata": {},
   "outputs": [],
   "source": [
    "import tensorflow as tf"
   ]
  },
  {
   "cell_type": "markdown",
   "id": "6af51575",
   "metadata": {},
   "source": [
    "# Experiment NN"
   ]
  },
  {
   "cell_type": "code",
   "execution_count": null,
   "id": "c2f16a23",
   "metadata": {},
   "outputs": [],
   "source": [
    "import torch\n",
    "import torchvision\n",
    "import torchvision.transforms as transforms\n",
    "import torch.nn as nn\n",
    "import torch.functional as F\n",
    "import torch.optim as optim"
   ]
  },
  {
   "cell_type": "code",
   "execution_count": null,
   "id": "dfa0578f",
   "metadata": {},
   "outputs": [],
   "source": []
  }
 ],
 "metadata": {
  "kernelspec": {
   "display_name": "Python 3 (ipykernel)",
   "language": "python",
   "name": "python3"
  },
  "language_info": {
   "codemirror_mode": {
    "name": "ipython",
    "version": 3
   },
   "file_extension": ".py",
   "mimetype": "text/x-python",
   "name": "python",
   "nbconvert_exporter": "python",
   "pygments_lexer": "ipython3",
   "version": "3.9.12"
  }
 },
 "nbformat": 4,
 "nbformat_minor": 5
}
