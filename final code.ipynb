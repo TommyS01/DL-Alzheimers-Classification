{
 "cells": [
  {
   "cell_type": "code",
   "execution_count": 1,
   "id": "04709981",
   "metadata": {},
   "outputs": [],
   "source": [
    "%matplotlib inline\n",
    "import numpy as np\n",
    "import matplotlib.pyplot as plt"
   ]
  },
  {
   "cell_type": "markdown",
   "id": "239ac50d",
   "metadata": {},
   "source": [
    "Note that each chunk can be run independently. This means that library imports may be redundant with a full run through and train test splits are not mirrored across methods. This is done to faciliate debugging and development."
   ]
  },
  {
   "cell_type": "markdown",
   "id": "8364e546",
   "metadata": {},
   "source": [
    "# Baseline Models"
   ]
  },
  {
   "cell_type": "markdown",
   "id": "73c57c87",
   "metadata": {},
   "source": [
    "### SVM"
   ]
  },
  {
   "cell_type": "code",
   "execution_count": 2,
   "id": "c4453916",
   "metadata": {},
   "outputs": [],
   "source": [
    "from sklearn.datasets import load_files\n",
    "import cv2\n",
    "from sklearn.model_selection import train_test_split\n",
    "from sklearn.decomposition import PCA\n",
    "from sklearn import svm\n",
    "from sklearn.metrics import precision_score, recall_score, f1_score\n",
    "from sklearn.model_selection import GridSearchCV"
   ]
  },
  {
   "cell_type": "code",
   "execution_count": 3,
   "id": "fa564017",
   "metadata": {},
   "outputs": [
    {
     "data": {
      "text/plain": [
       "{'filenames': array(['data\\\\1\\\\verymild_889.jpg', 'data\\\\0\\\\non_830.jpg',\n",
       "        'data\\\\1\\\\verymild_2145.jpg', ..., 'data\\\\0\\\\non_2487.jpg',\n",
       "        'data\\\\0\\\\non_465.jpg', 'data\\\\0\\\\non_578.jpg'], dtype='<U24'),\n",
       " 'target_names': ['0', '1'],\n",
       " 'target': array([1, 0, 1, ..., 0, 0, 0]),\n",
       " 'DESCR': None}"
      ]
     },
     "execution_count": 3,
     "metadata": {},
     "output_type": "execute_result"
    }
   ],
   "source": [
    "# Load data\n",
    "datapath = 'data'\n",
    "dataset = load_files(datapath, load_content=False, shuffle=True)\n",
    "dataset"
   ]
  },
  {
   "cell_type": "code",
   "execution_count": 4,
   "id": "3d52cd67",
   "metadata": {},
   "outputs": [
    {
     "data": {
      "text/plain": [
       "(6400, 16384)"
      ]
     },
     "execution_count": 4,
     "metadata": {},
     "output_type": "execute_result"
    }
   ],
   "source": [
    "# Read image files as grayscale\n",
    "X = []\n",
    "for file in dataset['filenames']:\n",
    "    img = cv2.imread(file, cv2.IMREAD_GRAYSCALE)\n",
    "    img = img.flatten()\n",
    "    X.append(img)\n",
    "X = np.array(X)\n",
    "X.shape"
   ]
  },
  {
   "cell_type": "code",
   "execution_count": 5,
   "id": "a616650d",
   "metadata": {},
   "outputs": [
    {
     "data": {
      "text/plain": [
       "(6400, 6400)"
      ]
     },
     "execution_count": 5,
     "metadata": {},
     "output_type": "execute_result"
    }
   ],
   "source": [
    "# Use default PCA method\n",
    "pca=PCA()\n",
    "X = pca.fit_transform(X)\n",
    "X.shape"
   ]
  },
  {
   "cell_type": "code",
   "execution_count": 6,
   "id": "5514200b",
   "metadata": {},
   "outputs": [],
   "source": [
    "# Split into training and testing sets\n",
    "X_train, X_test, y_train, y_test = train_test_split(X, dataset['target'])"
   ]
  },
  {
   "cell_type": "code",
   "execution_count": 7,
   "id": "15ad6ebc",
   "metadata": {},
   "outputs": [
    {
     "data": {
      "text/html": [
       "<style>#sk-container-id-1 {color: black;background-color: white;}#sk-container-id-1 pre{padding: 0;}#sk-container-id-1 div.sk-toggleable {background-color: white;}#sk-container-id-1 label.sk-toggleable__label {cursor: pointer;display: block;width: 100%;margin-bottom: 0;padding: 0.3em;box-sizing: border-box;text-align: center;}#sk-container-id-1 label.sk-toggleable__label-arrow:before {content: \"▸\";float: left;margin-right: 0.25em;color: #696969;}#sk-container-id-1 label.sk-toggleable__label-arrow:hover:before {color: black;}#sk-container-id-1 div.sk-estimator:hover label.sk-toggleable__label-arrow:before {color: black;}#sk-container-id-1 div.sk-toggleable__content {max-height: 0;max-width: 0;overflow: hidden;text-align: left;background-color: #f0f8ff;}#sk-container-id-1 div.sk-toggleable__content pre {margin: 0.2em;color: black;border-radius: 0.25em;background-color: #f0f8ff;}#sk-container-id-1 input.sk-toggleable__control:checked~div.sk-toggleable__content {max-height: 200px;max-width: 100%;overflow: auto;}#sk-container-id-1 input.sk-toggleable__control:checked~label.sk-toggleable__label-arrow:before {content: \"▾\";}#sk-container-id-1 div.sk-estimator input.sk-toggleable__control:checked~label.sk-toggleable__label {background-color: #d4ebff;}#sk-container-id-1 div.sk-label input.sk-toggleable__control:checked~label.sk-toggleable__label {background-color: #d4ebff;}#sk-container-id-1 input.sk-hidden--visually {border: 0;clip: rect(1px 1px 1px 1px);clip: rect(1px, 1px, 1px, 1px);height: 1px;margin: -1px;overflow: hidden;padding: 0;position: absolute;width: 1px;}#sk-container-id-1 div.sk-estimator {font-family: monospace;background-color: #f0f8ff;border: 1px dotted black;border-radius: 0.25em;box-sizing: border-box;margin-bottom: 0.5em;}#sk-container-id-1 div.sk-estimator:hover {background-color: #d4ebff;}#sk-container-id-1 div.sk-parallel-item::after {content: \"\";width: 100%;border-bottom: 1px solid gray;flex-grow: 1;}#sk-container-id-1 div.sk-label:hover label.sk-toggleable__label {background-color: #d4ebff;}#sk-container-id-1 div.sk-serial::before {content: \"\";position: absolute;border-left: 1px solid gray;box-sizing: border-box;top: 0;bottom: 0;left: 50%;z-index: 0;}#sk-container-id-1 div.sk-serial {display: flex;flex-direction: column;align-items: center;background-color: white;padding-right: 0.2em;padding-left: 0.2em;position: relative;}#sk-container-id-1 div.sk-item {position: relative;z-index: 1;}#sk-container-id-1 div.sk-parallel {display: flex;align-items: stretch;justify-content: center;background-color: white;position: relative;}#sk-container-id-1 div.sk-item::before, #sk-container-id-1 div.sk-parallel-item::before {content: \"\";position: absolute;border-left: 1px solid gray;box-sizing: border-box;top: 0;bottom: 0;left: 50%;z-index: -1;}#sk-container-id-1 div.sk-parallel-item {display: flex;flex-direction: column;z-index: 1;position: relative;background-color: white;}#sk-container-id-1 div.sk-parallel-item:first-child::after {align-self: flex-end;width: 50%;}#sk-container-id-1 div.sk-parallel-item:last-child::after {align-self: flex-start;width: 50%;}#sk-container-id-1 div.sk-parallel-item:only-child::after {width: 0;}#sk-container-id-1 div.sk-dashed-wrapped {border: 1px dashed gray;margin: 0 0.4em 0.5em 0.4em;box-sizing: border-box;padding-bottom: 0.4em;background-color: white;}#sk-container-id-1 div.sk-label label {font-family: monospace;font-weight: bold;display: inline-block;line-height: 1.2em;}#sk-container-id-1 div.sk-label-container {text-align: center;}#sk-container-id-1 div.sk-container {/* jupyter's `normalize.less` sets `[hidden] { display: none; }` but bootstrap.min.css set `[hidden] { display: none !important; }` so we also need the `!important` here to be able to override the default hidden behavior on the sphinx rendered scikit-learn.org. See: https://github.com/scikit-learn/scikit-learn/issues/21755 */display: inline-block !important;position: relative;}#sk-container-id-1 div.sk-text-repr-fallback {display: none;}</style><div id=\"sk-container-id-1\" class=\"sk-top-container\"><div class=\"sk-text-repr-fallback\"><pre>SVC(C=5)</pre><b>In a Jupyter environment, please rerun this cell to show the HTML representation or trust the notebook. <br />On GitHub, the HTML representation is unable to render, please try loading this page with nbviewer.org.</b></div><div class=\"sk-container\" hidden><div class=\"sk-item\"><div class=\"sk-estimator sk-toggleable\"><input class=\"sk-toggleable__control sk-hidden--visually\" id=\"sk-estimator-id-1\" type=\"checkbox\" checked><label for=\"sk-estimator-id-1\" class=\"sk-toggleable__label sk-toggleable__label-arrow\">SVC</label><div class=\"sk-toggleable__content\"><pre>SVC(C=5)</pre></div></div></div></div></div>"
      ],
      "text/plain": [
       "SVC(C=5)"
      ]
     },
     "execution_count": 7,
     "metadata": {},
     "output_type": "execute_result"
    }
   ],
   "source": [
    "# Fit a model with default slack C=5\n",
    "svm_mdl = svm.SVC(C=5)\n",
    "svm_mdl.fit(X_train, y_train)"
   ]
  },
  {
   "cell_type": "code",
   "execution_count": 8,
   "id": "f7d8fd6f",
   "metadata": {},
   "outputs": [
    {
     "name": "stdout",
     "output_type": "stream",
     "text": [
      "Precision: 1.0\n",
      "Recall: 0.9974160206718347\n",
      "F1: 0.9987063389391979\n"
     ]
    }
   ],
   "source": [
    "# Predict\n",
    "preds = svm_mdl.predict(X_test)\n",
    "print(f'Precision: {precision_score(preds, y_test)}\\nRecall: {recall_score(preds, y_test)}\\nF1: {f1_score(preds, y_test)}')"
   ]
  },
  {
   "cell_type": "code",
   "execution_count": 9,
   "id": "077e5229",
   "metadata": {},
   "outputs": [],
   "source": [
    "# Perform k-fold cross validation to determine best slack parameter (5)\n",
    "# WARNING - EXTREMELY LONG RUNTIME #\n",
    "#svm_tune = svm.SVC()\n",
    "#param_dict = {'C': [0.25, 0.5, 1, 2, 5]}\n",
    "#clf = GridSearchCV(svm_tune, param_dict, scoring='f1')\n",
    "#clf.fit(X_train, y_train)"
   ]
  },
  {
   "cell_type": "markdown",
   "id": "515b6ed1",
   "metadata": {},
   "source": [
    "### ResNet"
   ]
  },
  {
   "cell_type": "code",
   "execution_count": 10,
   "id": "b8419e27",
   "metadata": {},
   "outputs": [],
   "source": [
    "import torch\n",
    "import torch.nn as nn\n",
    "import torch.optim as optim\n",
    "from torchvision import transforms, datasets\n",
    "from torchvision.models import resnet18\n",
    "import time"
   ]
  },
  {
   "cell_type": "code",
   "execution_count": 11,
   "id": "42d87ca9",
   "metadata": {},
   "outputs": [],
   "source": [
    "# Select device for training (Install cuda toolkit)\n",
    "device = torch.device('cuda' if torch.cuda.is_available() else 'cpu')"
   ]
  },
  {
   "cell_type": "code",
   "execution_count": 12,
   "id": "f6b99931",
   "metadata": {},
   "outputs": [],
   "source": [
    "# Load images\n",
    "transform = transforms.Compose([\n",
    "    transforms.ToTensor()\n",
    "])\n",
    "\n",
    "# Load the dataset\n",
    "data = datasets.ImageFolder('data/', transform=transform)\n",
    "\n",
    "# Split into training and test sets\n",
    "train_size = int(0.75 * len(data))\n",
    "test_size = len(data) - train_size\n",
    "train_data, test_data = torch.utils.data.random_split(data, [train_size, test_size])"
   ]
  },
  {
   "cell_type": "code",
   "execution_count": 13,
   "id": "aaa6a838",
   "metadata": {},
   "outputs": [],
   "source": [
    "# Define ResNet18\n",
    "model = resnet18()\n",
    "num_ftrs = model.fc.in_features\n",
    "model.fc = nn.Linear(num_ftrs, len(data.classes))"
   ]
  },
  {
   "cell_type": "code",
   "execution_count": 14,
   "id": "d5a6d07b",
   "metadata": {},
   "outputs": [],
   "source": [
    "# Define loss function and optimizer\n",
    "criterion = nn.CrossEntropyLoss()\n",
    "optimizer = optim.Adam(model.fc.parameters(), lr=0.001, weight_decay=0.0001)"
   ]
  },
  {
   "cell_type": "code",
   "execution_count": 15,
   "id": "07e8a6d2",
   "metadata": {
    "scrolled": true
   },
   "outputs": [
    {
     "name": "stdout",
     "output_type": "stream",
     "text": [
      "Epoch 1 | Avg Training Loss: 0.6895\n",
      "Epoch 2 | Avg Training Loss: 0.6578\n",
      "Epoch 3 | Avg Training Loss: 0.6483\n",
      "Epoch 4 | Avg Training Loss: 0.6310\n",
      "Epoch 5 | Avg Training Loss: 0.6484\n",
      "Epoch 6 | Avg Training Loss: 0.6220\n",
      "Epoch 7 | Avg Training Loss: 0.6053\n",
      "Epoch 8 | Avg Training Loss: 0.5960\n",
      "Epoch 9 | Avg Training Loss: 0.5979\n",
      "Epoch 10 | Avg Training Loss: 0.5981\n",
      "Total training time: 1144.7622\n"
     ]
    }
   ],
   "source": [
    "# Model Training\n",
    "num_epochs = 10\n",
    "batch_size = 40\n",
    "\n",
    "train_loader = torch.utils.data.DataLoader(train_data, batch_size=batch_size, shuffle=True)\n",
    "\n",
    "train_losses = []\n",
    "\n",
    "start_time = time.time()\n",
    "\n",
    "for epoch in range(num_epochs):\n",
    "    model.train()\n",
    "    train_loss = 0.0\n",
    "    train_count = 0\n",
    "\n",
    "    for images, labels in train_loader:\n",
    "        images = images.to(device)\n",
    "        labels = labels.to(device)\n",
    "        optimizer.zero_grad()\n",
    "        \n",
    "        outputs = model(images)\n",
    "\n",
    "        # Loss computation\n",
    "        loss = criterion(outputs, labels)\n",
    "        loss.backward()\n",
    "        optimizer.step()\n",
    "\n",
    "        train_loss += loss.item() * images.size(0)\n",
    "        train_count += images.size(0)\n",
    "        \n",
    "    # Print training loss\n",
    "    train_loss /= train_count\n",
    "    train_losses.append(train_loss)\n",
    "    print('Epoch {} | Avg Training Loss: {:.4f}'.format(epoch+1, train_loss))\n",
    "\n",
    "end_time = time.time()\n",
    "\n",
    "print('Total training time: {:.4f}'.format(end_time - start_time))"
   ]
  },
  {
   "cell_type": "code",
   "execution_count": 16,
   "id": "14770be4",
   "metadata": {},
   "outputs": [],
   "source": [
    "test_loader = torch.utils.data.DataLoader(test_data, batch_size=batch_size, shuffle=True)\n",
    "\n",
    "model.eval()\n",
    "\n",
    "preds = np.array([])\n",
    "y = np.array([])\n",
    "\n",
    "with torch.no_grad():\n",
    "    for images, labels in test_loader:\n",
    "        outputs = model(images)\n",
    "\n",
    "        p = outputs.argmax(dim=1, keepdim=True)\n",
    "        \n",
    "        preds = np.concatenate((preds, p.numpy().flatten()))\n",
    "        y = np.concatenate((y, labels.numpy().flatten()))\n",
    "\n",
    "precision = precision_score(preds, y)\n",
    "recall = recall_score(preds, y)\n",
    "f1 = f1_score(preds, y)"
   ]
  },
  {
   "cell_type": "code",
   "execution_count": 17,
   "id": "29536e6f",
   "metadata": {},
   "outputs": [
    {
     "name": "stdout",
     "output_type": "stream",
     "text": [
      "Precision: 0.43101182654402104\n",
      "Recall: 0.6776859504132231\n",
      "F1: 0.5269076305220883\n"
     ]
    }
   ],
   "source": [
    "print(f'Precision: {precision}\\nRecall: {recall}\\nF1: {f1}')"
   ]
  },
  {
   "cell_type": "markdown",
   "id": "6af51575",
   "metadata": {},
   "source": [
    "# Experiment NN"
   ]
  },
  {
   "cell_type": "code",
   "execution_count": 18,
   "id": "dfa0578f",
   "metadata": {},
   "outputs": [],
   "source": [
    "import torch\n",
    "import torch.nn as nn\n",
    "import torch.optim as optim\n",
    "from torchvision import transforms, datasets\n",
    "from torchvision.models import resnet18\n",
    "import time"
   ]
  },
  {
   "cell_type": "code",
   "execution_count": 19,
   "id": "36f57d8b",
   "metadata": {},
   "outputs": [],
   "source": [
    "# Select device\n",
    "device = torch.device('cuda' if torch.cuda.is_available() else 'cpu')"
   ]
  },
  {
   "cell_type": "code",
   "execution_count": 20,
   "id": "cbda0a43",
   "metadata": {},
   "outputs": [],
   "source": [
    "# Load images\n",
    "transform = transforms.Compose([\n",
    "    transforms.ToTensor()\n",
    "])\n",
    "\n",
    "# Load the dataset\n",
    "data = datasets.ImageFolder('data/', transform=transform)\n",
    "\n",
    "# Split into training and test sets\n",
    "train_size = int(0.75 * len(data))\n",
    "test_size = len(data) - train_size\n",
    "train_data, test_data = torch.utils.data.random_split(data, [train_size, test_size])\n",
    "\n",
    "# Further split into training and val sets\n",
    "train_size = int(0.75 * len(train_data))\n",
    "val_size = len(train_data) - train_size\n",
    "train_data, val_data = torch.utils.data.random_split(train_data, [train_size, val_size])"
   ]
  },
  {
   "cell_type": "code",
   "execution_count": 21,
   "id": "c2a89e3b",
   "metadata": {},
   "outputs": [
    {
     "data": {
      "text/plain": [
       "Net(\n",
       "  (conv1): Conv2d(3, 12, kernel_size=(1, 1), stride=(1, 1))\n",
       "  (conv2): Conv2d(12, 18, kernel_size=(2, 2), stride=(1, 1))\n",
       "  (conv3): Conv2d(18, 36, kernel_size=(3, 3), stride=(1, 1))\n",
       "  (conv4): Conv2d(36, 42, kernel_size=(1, 1), stride=(1, 1))\n",
       "  (pool): AvgPool2d(kernel_size=(2, 2), stride=(2, 2), padding=0)\n",
       "  (flatten): Flatten(start_dim=1, end_dim=-1)\n",
       "  (fc): Linear(in_features=161448, out_features=2, bias=True)\n",
       ")"
      ]
     },
     "execution_count": 21,
     "metadata": {},
     "output_type": "execute_result"
    }
   ],
   "source": [
    "# Define netowrk architecture\n",
    "class Net(nn.Module):\n",
    "    def __init__(self):\n",
    "        super(Net, self).__init__()\n",
    "        self.conv1 = nn.Conv2d(3, 12, kernel_size=(1,1))\n",
    "        self.conv2 = nn.Conv2d(12, 18, kernel_size=(2,2))\n",
    "        self.conv3 = nn.Conv2d(18, 36, kernel_size=(3,3))\n",
    "        self.conv4 = nn.Conv2d(36, 42, kernel_size=(1,1))\n",
    "        self.pool = nn.AvgPool2d(kernel_size=(2,2))\n",
    "        self.flatten = nn.Flatten()\n",
    "        self.fc = nn.Linear(161448, 2)\n",
    "    \n",
    "    def forward(self, x):\n",
    "        x = torch.relu(self.conv1(x))\n",
    "        x = torch.relu(self.conv2(x))\n",
    "        x = torch.relu(self.conv3(x))\n",
    "        x = self.pool(torch.relu(self.conv4(x)))\n",
    "        x = self.flatten(x)\n",
    "        x = self.fc(x)\n",
    "        return x\n",
    "\n",
    "net = Net()\n",
    "net.to(device)"
   ]
  },
  {
   "cell_type": "code",
   "execution_count": 22,
   "id": "03fabd5c",
   "metadata": {},
   "outputs": [],
   "source": [
    "# Define loss and optimizer\n",
    "criterion = nn.CrossEntropyLoss()\n",
    "optimizer = optim.SGD(net.parameters(), lr=0.001, momentum=0.9)"
   ]
  },
  {
   "cell_type": "code",
   "execution_count": 23,
   "id": "60343e74",
   "metadata": {},
   "outputs": [
    {
     "name": "stdout",
     "output_type": "stream",
     "text": [
      "Epoch 1 | Avg Training Loss: 0.6973\n",
      "Epoch 2 | Avg Training Loss: 0.6349\n",
      "Epoch 3 | Avg Training Loss: 0.6129\n",
      "Epoch 4 | Avg Training Loss: 0.5732\n",
      "Epoch 5 | Avg Training Loss: 0.5490\n",
      "Epoch 6 | Avg Training Loss: 0.5241\n",
      "Epoch 7 | Avg Training Loss: 0.4859\n",
      "Epoch 8 | Avg Training Loss: 0.4703\n",
      "Epoch 9 | Avg Training Loss: 0.4384\n",
      "Epoch 10 | Avg Training Loss: 0.4336\n",
      "Epoch 11 | Avg Training Loss: 0.3973\n",
      "Epoch 12 | Avg Training Loss: 0.3841\n",
      "Epoch 13 | Avg Training Loss: 0.3529\n",
      "Epoch 14 | Avg Training Loss: 0.3123\n",
      "Epoch 15 | Avg Training Loss: 0.3057\n",
      "Epoch 16 | Avg Training Loss: 0.2973\n",
      "Epoch 17 | Avg Training Loss: 0.2919\n",
      "Epoch 18 | Avg Training Loss: 0.2527\n",
      "Epoch 19 | Avg Training Loss: 0.2134\n",
      "Epoch 20 | Avg Training Loss: 0.2201\n",
      "Total training time: 1522.7960\n"
     ]
    }
   ],
   "source": [
    "epochs = 20\n",
    "batch_size = 24\n",
    "train_loader = torch.utils.data.DataLoader(train_data, batch_size=batch_size, shuffle=True)\n",
    "\n",
    "avg_losses = []\n",
    "\n",
    "start_time = time.time()\n",
    "\n",
    "for epoch in range(epochs):\n",
    "    net.train()\n",
    "    running_loss = 0.0\n",
    "    train_count = 0\n",
    "    \n",
    "    for images, labels in train_loader:\n",
    "        images = images.to(device)\n",
    "        labels = labels.to(device)\n",
    "        optimizer.zero_grad()\n",
    "        \n",
    "        outputs = net(images)\n",
    "        \n",
    "        loss = criterion(outputs, labels)\n",
    "        loss.backward()\n",
    "        optimizer.step()\n",
    "        \n",
    "        running_loss += loss.item() * images.size(0)\n",
    "        train_count += images.size(0)\n",
    "        \n",
    "    avg_loss = running_loss/train_count\n",
    "    avg_losses.append(avg_loss)\n",
    "    print('Epoch {} | Avg Training Loss: {:.4f}'.format(epoch+1, avg_loss))\n",
    "\n",
    "end_time = time.time()\n",
    "\n",
    "print('Total training time: {:.4f}'.format(end_time - start_time))"
   ]
  },
  {
   "cell_type": "code",
   "execution_count": 24,
   "id": "a97cb15f",
   "metadata": {},
   "outputs": [],
   "source": [
    "val_loader = torch.utils.data.DataLoader(val_data, batch_size=batch_size, shuffle=True)\n",
    "\n",
    "model.eval()\n",
    "\n",
    "preds = np.array([])\n",
    "y = np.array([])\n",
    "\n",
    "with torch.no_grad():\n",
    "    for images, labels in test_loader:\n",
    "        outputs = net(images)\n",
    "\n",
    "        p = outputs.argmax(dim=1, keepdim=True)\n",
    "        \n",
    "        preds = np.concatenate((preds, p.numpy().flatten()))\n",
    "        y = np.concatenate((y, labels.numpy().flatten()))\n",
    "\n",
    "precision = precision_score(preds, y)\n",
    "recall = recall_score(preds, y)\n",
    "f1 = f1_score(preds, y)"
   ]
  },
  {
   "cell_type": "code",
   "execution_count": 25,
   "id": "211a327c",
   "metadata": {},
   "outputs": [
    {
     "name": "stdout",
     "output_type": "stream",
     "text": [
      "Precision: 0.8961892247043364\n",
      "Recall: 0.9304229195088677\n",
      "F1: 0.9129852744310576\n"
     ]
    }
   ],
   "source": [
    "print(f'Precision: {precision}\\nRecall: {recall}\\nF1: {f1}')"
   ]
  },
  {
   "cell_type": "markdown",
   "id": "724b5734",
   "metadata": {},
   "source": [
    "# Training Loss Plots"
   ]
  },
  {
   "cell_type": "code",
   "execution_count": 31,
   "id": "346eac5c",
   "metadata": {},
   "outputs": [
    {
     "data": {
      "image/png": "[encoded data removed]",
      "text/plain": [
       "<Figure size 432x288 with 1 Axes>"
      ]
     },
     "metadata": {
      "needs_background": "light"
     },
     "output_type": "display_data"
    }
   ],
   "source": [
    "plt.plot(np.arange(10)+1,train_losses)\n",
    "plt.show()"
   ]
  },
  {
   "cell_type": "code",
   "execution_count": 33,
   "id": "267577d9",
   "metadata": {},
   "outputs": [
    {
     "data": {
      "image/png": "[encoded data removed]",
      "text/plain": [
       "<Figure size 432x288 with 1 Axes>"
      ]
     },
     "metadata": {
      "needs_background": "light"
     },
     "output_type": "display_data"
    }
   ],
   "source": [
    "plt.plot(np.arange(20)+1, avg_losses)\n",
    "plt.show()"
   ]
  },
  {
   "cell_type": "code",
   "execution_count": null,
   "id": "35279217",
   "metadata": {},
   "outputs": [],
   "source": []
  }
 ],
 "metadata": {
  "kernelspec": {
   "display_name": "Python 3 (ipykernel)",
   "language": "python",
   "name": "python3"
  },
  "language_info": {
   "codemirror_mode": {
    "name": "ipython",
    "version": 3
   },
   "file_extension": ".py",
   "mimetype": "text/x-python",
   "name": "python",
   "nbconvert_exporter": "python",
   "pygments_lexer": "ipython3",
   "version": "3.9.12"
  }
 },
 "nbformat": 4,
 "nbformat_minor": 5
}
